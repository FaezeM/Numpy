{
 "cells": [
  {
   "cell_type": "markdown",
   "metadata": {},
   "source": [
    "15_linear_algebra:\n",
    "1. Write a function named vector_addition that accepts two lists representing vectors vector1 and vector2 as input. Ensure that both vectors have the same length. Implement the function to perform element-wise addition of the corresponding elements of the two vectors and return the resulting vector."
   ]
  },
  {
   "cell_type": "code",
   "execution_count": 3,
   "metadata": {},
   "outputs": [
    {
     "data": {
      "text/plain": [
       "array([4, 6, 8])"
      ]
     },
     "execution_count": 3,
     "metadata": {},
     "output_type": "execute_result"
    }
   ],
   "source": [
    "import numpy as np\n",
    "\n",
    "def vector_addition(vec1 , vec2):\n",
    "    return vec1 + vec2\n",
    "\n",
    "vec1 = np.array([1,2,3])\n",
    "vec2 = np.array([3,4,5])\n",
    "vector_addition(vec1,vec2)"
   ]
  },
  {
   "cell_type": "markdown",
   "metadata": {},
   "source": [
    "2. Write a function that takes in input two lists as vectors and returns as output their dot product (you cannot use library functions from NumPy...); remember that the dot product of two vectors is a number computed through this formula: u⃗ ⋅ v⃗ = u1v1 + u2v2"
   ]
  },
  {
   "cell_type": "code",
   "execution_count": 7,
   "metadata": {},
   "outputs": [
    {
     "data": {
      "text/plain": [
       "26"
      ]
     },
     "execution_count": 7,
     "metadata": {},
     "output_type": "execute_result"
    }
   ],
   "source": [
    "def dot_product(vec1 , vec2):\n",
    "    return np.dot(vec1 , vec2)\n",
    "\n",
    "dot_product(vec1 , vec2)"
   ]
  },
  {
   "cell_type": "markdown",
   "metadata": {},
   "source": [
    "3. write a program to obtain the transpose of the matrix a=[[1,2],[3,4],[5,6]]."
   ]
  },
  {
   "cell_type": "code",
   "execution_count": 8,
   "metadata": {},
   "outputs": [
    {
     "data": {
      "text/plain": [
       "matrix([[1, 4],\n",
       "        [2, 5],\n",
       "        [3, 6]])"
      ]
     },
     "execution_count": 8,
     "metadata": {},
     "output_type": "execute_result"
    }
   ],
   "source": [
    "def transposed(matrix):\n",
    "    return np.transpose(matrix)\n",
    "\n",
    "in_matrix = np.matrix([[1, 2, 3], [4, 5, 6]])\n",
    "transposed(in_matrix)"
   ]
  },
  {
   "cell_type": "markdown",
   "metadata": {},
   "source": [
    "4. write a function to test whether a matrix is symmetric; the function takes as input a matrix (as a plain list), and returns True if the matrix is symmetric, and False otherwise."
   ]
  },
  {
   "cell_type": "code",
   "execution_count": 10,
   "metadata": {},
   "outputs": [
    {
     "data": {
      "text/plain": [
       "True"
      ]
     },
     "execution_count": 10,
     "metadata": {},
     "output_type": "execute_result"
    }
   ],
   "source": [
    "def is_symmetric(matrix):\n",
    "    return np.array_equal(matrix , matrix.T)\n",
    "\n",
    "matrix = np.array([[1, 2, 3],\n",
    "          [2, 4, 5],\n",
    "          [3, 5, 6]])\n",
    "\n",
    "is_symmetric(matrix)"
   ]
  },
  {
   "cell_type": "markdown",
   "metadata": {},
   "source": [
    "5. write a function that takes in input a matrix (as a plain list) and returns its transpose"
   ]
  },
  {
   "cell_type": "code",
   "execution_count": 25,
   "metadata": {},
   "outputs": [
    {
     "name": "stdout",
     "output_type": "stream",
     "text": [
      "invalid matrix\n"
     ]
    }
   ],
   "source": [
    "def transpose_input():\n",
    "    # Take user input for the number of rows and columns\n",
    "    num_rows = int(input(\"Enter the number of rows: \"))\n",
    "    num_cols = int(input(\"Enter the number of columns: \"))\n",
    "\n",
    "    # Initialize an empty list to store the matrix\n",
    "    inp = []\n",
    "\n",
    "    # Take user input for each row of the matrix\n",
    "\n",
    "    for _ in range(num_rows):\n",
    "        row = list(map(int, input(\"Enter row values separated by space: \").split()))\n",
    "        inp.append(row)\n",
    "    if len(row) != num_cols:\n",
    "        print('invalid matrix')\n",
    "        return\n",
    "    matrix = np.array(inp)\n",
    "\n",
    "        \n",
    "    return np.transpose(matrix)\n",
    "\n",
    "\n",
    "transpose_input()"
   ]
  },
  {
   "cell_type": "markdown",
   "metadata": {},
   "source": [
    "6. write a function that takes in input a matrix and a vector (of appropriate size) and returns the result of the matrix-vector product; in other words, reimplement the '@' operator."
   ]
  },
  {
   "cell_type": "code",
   "execution_count": 26,
   "metadata": {},
   "outputs": [
    {
     "name": "stdout",
     "output_type": "stream",
     "text": [
      "[14 32 50]\n"
     ]
    }
   ],
   "source": [
    "a = np.array([[ 1, 2 ,3],\n",
    "[ 4, 5 ,6],\n",
    "[ 7, 8 ,9]])\n",
    "b = np.array([1, 2, 3])\n",
    "\n",
    "print(a @ b)"
   ]
  },
  {
   "cell_type": "markdown",
   "metadata": {},
   "source": [
    "7. Write a function that takes in input a matrix and returns a vector. each element in the vector contains the sum of a matrix row. For example, given the matrix a = [[1,2,3], [4,5,6], [7,8,9]], the function must return the vector [6,15,24].\n",
    "- Modify, if required, former function to make it handle also a vector as its input"
   ]
  },
  {
   "cell_type": "code",
   "execution_count": 33,
   "metadata": {},
   "outputs": [
    {
     "data": {
      "text/plain": [
       "[21]"
      ]
     },
     "execution_count": 33,
     "metadata": {},
     "output_type": "execute_result"
    }
   ],
   "source": [
    "def sum_row(in_matrix):\n",
    "  return [sum(el) for el in in_matrix]\n",
    "\n",
    "a = [[1,2,3], [4,5,6], [7,8,9]]\n",
    "b = [[1,2,3,4,5,6]]\n",
    "\n",
    "sum_row(a)\n",
    "sum_row(b)"
   ]
  },
  {
   "cell_type": "markdown",
   "metadata": {},
   "source": [
    "8. Write a function that takes in input a matrix and returns as output a vector containing the sum of its columns"
   ]
  },
  {
   "cell_type": "code",
   "execution_count": 34,
   "metadata": {},
   "outputs": [
    {
     "data": {
      "text/plain": [
       "array([12, 15, 18])"
      ]
     },
     "execution_count": 34,
     "metadata": {},
     "output_type": "execute_result"
    }
   ],
   "source": [
    "def sum_col(matrix):\n",
    "    #For a 2D array (matrix), axis 0 represents the vertical axis (rows) and axis 1 represents the horizontal axis (columns).\n",
    "    return np.sum(matrix , axis=0)\n",
    "\n",
    "matrix = np.array([[1, 2, 3],\n",
    "          [4, 5, 6],\n",
    "          [7, 8, 9]])\n",
    "\n",
    "sum_col(matrix)"
   ]
  },
  {
   "cell_type": "markdown",
   "metadata": {},
   "source": [
    "9. write a function that takes in input a matrix and a matrix (of appropriate size) and returns the result of their product"
   ]
  },
  {
   "cell_type": "code",
   "execution_count": null,
   "metadata": {},
   "outputs": [],
   "source": [
    "import numpy as np\n",
    "\n",
    "\n",
    "def compute_matrix_multiplication(a, b):\n",
    "  m_rows = len(a)\n",
    "  n_cols = len(b[0])\n",
    "\n",
    "  result_mat = np.zeros((m_rows, n_cols))\n",
    "\n",
    "  # iterate through rows of a\n",
    "  for i in range(m_rows):\n",
    "    # iterate through columns of b\n",
    "    for j in range(n_cols):\n",
    "      # iterate through rows of b\n",
    "      for k in range(len(b)):\n",
    "        result_mat[i][j] += a[i][k] * b[k][j]\n",
    "\n",
    "  return result_mat\n",
    "\n",
    "# function call\n",
    "a = np.array([[ 1, 2],\n",
    "              [ 3, 4],\n",
    "              [ 5 ,6]])\n",
    "b = np.array([[ 1, 2],\n",
    "              [ 3, 4]])\n",
    "\n",
    "print(a)\n",
    "print(b)\n",
    "print(f'mat_mul(a, b) = \\n{compute_matrix_multiplication(a, b)}')\n",
    "print(f'a @ b = \\n{a @ b}')"
   ]
  }
 ],
 "metadata": {
  "kernelspec": {
   "display_name": "Python 3",
   "language": "python",
   "name": "python3"
  },
  "language_info": {
   "codemirror_mode": {
    "name": "ipython",
    "version": 3
   },
   "file_extension": ".py",
   "mimetype": "text/x-python",
   "name": "python",
   "nbconvert_exporter": "python",
   "pygments_lexer": "ipython3",
   "version": "3.9.0"
  }
 },
 "nbformat": 4,
 "nbformat_minor": 2
}
