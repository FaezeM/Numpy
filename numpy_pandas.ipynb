{
 "cells": [
  {
   "cell_type": "markdown",
   "metadata": {},
   "source": [
    "16_numpy_pandas:\n",
    "let us assume that the 3 columns in the file test.csv (from the utils/ directory) contain news wires, and each record encodes information on topic, title, text. develop a simple program to\n",
    "- compute how many different topics are present in the file\n",
    "- select only data associated to a given topic, say topic 4\n",
    "- count how many elements were found in the previous step"
   ]
  },
  {
   "cell_type": "code",
   "execution_count": 33,
   "metadata": {},
   "outputs": [
    {
     "data": {
      "text/plain": [
       "0"
      ]
     },
     "execution_count": 33,
     "metadata": {},
     "output_type": "execute_result"
    }
   ],
   "source": [
    "import numpy as np \n",
    "import csv\n",
    "\n",
    "def read_csv(path):\n",
    "    res = []\n",
    "    with open(path, 'r' , newline='') as file:\n",
    "        text = csv.reader(file)\n",
    "        for row in text:\n",
    "            res.append(row)\n",
    "    return res\n",
    "\n",
    "def count_topics(text):\n",
    "    topics = set() #unique so no duplicate\n",
    "    for row in text: #row is a csv thingy(it iterates fields)\n",
    "        topic = row[0]\n",
    "        topics.add(topic)\n",
    "    return topics\n",
    "\n",
    "def select_topic(text , topic):\n",
    "    res = []\n",
    "    for row in text:\n",
    "        if int(row[0].strip()) == topic:\n",
    "            res.append(row)\n",
    "    return res\n",
    "\n",
    "def count_selected_topic(text , topic):\n",
    "    res = 0\n",
    "    for row in text:\n",
    "        if int(row[0].strip()) == topic:\n",
    "            res += 1\n",
    "    return res\n",
    "\n",
    "text = read_csv('D:\\\\00Courses\\\\Languages, Methods and Tools for Developing NLP Applications\\\\16_utils\\\\test.csv')\n",
    "count_topics(text)\n",
    "#select_topic(text,4)\n",
    "count_selected_topic(text,2)\n"
   ]
  },
  {
   "cell_type": "markdown",
   "metadata": {},
   "source": [
    "(PANDAS)let us assume that the 3 columns in the file test.csv (from the utils/ directory) contain news wires, and each record encodes information on topic, title, text. develop a simple program to\n",
    "- compute how many different topics are present in the file\n",
    "- select only data associated to a given topic, say topic 4\n",
    "- count how many elements were found in the previous step"
   ]
  },
  {
   "cell_type": "code",
   "execution_count": 17,
   "metadata": {},
   "outputs": [
    {
     "name": "stdout",
     "output_type": "stream",
     "text": [
      "1900\n"
     ]
    }
   ],
   "source": [
    "import pandas as pd\n",
    "#now everything is in easy mode\n",
    "\n",
    "def count_topics_pd():\n",
    "    return df[0].nunique()\n",
    "\n",
    "def select_topic_pd(num):\n",
    "    return df[df[0] == num]\n",
    "\n",
    "def count_selected_topic_pd(num):\n",
    "    return len(df[df[0] == num])\n",
    "\n",
    "#it doesn't have header and we need to tell that\n",
    "#df is global\n",
    "df = pd.read_csv('D:\\\\00Courses\\\\Languages, Methods and Tools for Developing NLP Applications\\\\16_utils\\\\test.csv' , header=None)\n",
    "print(count_selected_topic_pd(3))"
   ]
  },
  {
   "cell_type": "markdown",
   "metadata": {},
   "source": [
    "1. consider a CSV file (student_marks.csv) containing data about student grades and performs statistical analysis on the data using pandas. The CSV file contains the following columns:\n",
    "- StudentID: Unique identifier for each student.\n",
    "- Name: Name of the student.\n",
    "- Math: Math score of the student.\n",
    "- Science: Science score of the student.\n",
    "- English: English score of the student.\n",
    "\n",
    "2. write a function that takes in input the file path to the CSV file. the function should read the CSV file using pandas, perform the following analyses, and return the results:\n",
    "- calculate the mean, median, minimum, and maximum scores for each subject (Math, Science, English).\n",
    "- calculate the overall average score for each student (average of Math, Science, and English scores).\n",
    "- identify the student with the highest overall average score and return their name and average score."
   ]
  },
  {
   "cell_type": "code",
   "execution_count": 7,
   "metadata": {},
   "outputs": [
    {
     "name": "stdout",
     "output_type": "stream",
     "text": [
      "(             Math    Science    English\n",
      "mean    26.285714  26.285714  26.857143\n",
      "median  27.000000  28.000000  28.000000\n",
      "min     21.000000  22.000000  23.000000\n",
      "max     30.000000  28.000000  30.000000, \"'Daisy Sun'\", 28.666666666666668)\n"
     ]
    }
   ],
   "source": [
    "#pip install pandas\n",
    "import pandas as pd\n",
    "\n",
    "def calculate_stats(path):\n",
    "    df = pd.read_csv(path)\n",
    "\n",
    "    #calculate mean, median, max, min\n",
    "    #agg() is a method in pandas that is used to aggregate data. It allows you to compute multiple statistics for one or more columns of a DataFrame simultaneously. When you call agg() on a DataFrame or Series, you can pass it one or more functions that you want to apply to the data.\n",
    "    subject_stats = df[['Math', 'Science', 'English']].agg(['mean', 'median', 'min', 'max'])\n",
    "    \n",
    "    #calculate avg\n",
    "    #In a DataFrame, axis 0 refers to operations along the rows (vertically), while axis 1 refers to operations along the columns (horizontally)\n",
    "    df['Overall Average'] = df[['Math', 'Science', 'English']].mean(axis=1)\n",
    "    \n",
    "    #get the best avg\n",
    "    nerd = df.loc[df['Overall Average'].idxmax()]\n",
    "    \n",
    "    #get the the nerd name and avg\n",
    "    nerd_name = nerd['Name']\n",
    "    nerd_avg = nerd['Overall Average']\n",
    "\n",
    "    return subject_stats, nerd_name, nerd_avg\n",
    "    \n",
    "\n",
    "path = 'D:\\\\00Courses\\\\Languages, Methods and Tools for Developing NLP Applications\\\\16_utils\\\\student_marks.csv'\n",
    "print(calculate_stats(path))\n"
   ]
  }
 ],
 "metadata": {
  "kernelspec": {
   "display_name": "Python 3",
   "language": "python",
   "name": "python3"
  },
  "language_info": {
   "codemirror_mode": {
    "name": "ipython",
    "version": 3
   },
   "file_extension": ".py",
   "mimetype": "text/x-python",
   "name": "python",
   "nbconvert_exporter": "python",
   "pygments_lexer": "ipython3",
   "version": "3.9.0"
  }
 },
 "nbformat": 4,
 "nbformat_minor": 2
}
